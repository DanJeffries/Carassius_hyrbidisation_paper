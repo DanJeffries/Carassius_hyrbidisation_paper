{
 "cells": [
  {
   "cell_type": "markdown",
   "metadata": {},
   "source": [
    "## Summarising sample assignments\n",
    "\n",
    "Here I just summarise the NewHybrids assignments of samples to each parental or hybrid class. "
   ]
  },
  {
   "cell_type": "code",
   "execution_count": 46,
   "metadata": {},
   "outputs": [
    {
     "name": "stdout",
     "output_type": "stream",
     "text": [
      "72\n"
     ]
    }
   ],
   "source": [
    "with open(\"/home/djeffrie/Dropbox/PhD/Dans_PhD_Shared/Thesis/Chapter_5_Hybridisation_and_introgression/data/Combined_RAD_MICRO_assignments.txt\") as assignments:\n",
    "    \n",
    "    header = next(assignments)\n",
    "    \n",
    "    assign_dict = {}\n",
    "\n",
    "    for line in assignments:\n",
    "\n",
    "        \n",
    "        pop = line.split()[0].split(\"_\")[0]\n",
    "        spp = line.split()[1]\n",
    "        \n",
    "        if pop not in assign_dict:\n",
    "            \n",
    "            assign_dict[pop] = {}\n",
    "            \n",
    "            ## add each category to the pop slots in the dict\n",
    "            \n",
    "            assign_dict[pop][\"C.carassius\"] = 0\n",
    "            assign_dict[pop][\"C.carassius_DAN\"] = 0\n",
    "            assign_dict[pop][\"C.carassius_DON\"] = 0\n",
    "            assign_dict[pop][\"C.a.auratus\"] = 0\n",
    "            assign_dict[pop][\"C.a.gibelio\"] = 0\n",
    "            assign_dict[pop][\"C.carpio\"] = 0\n",
    "            \n",
    "            assign_dict[pop][\"C.carassiusxC.a.auratus\"] = 0\n",
    "            assign_dict[pop][\"C.carassiusxC.a.gibelio\"] = 0\n",
    "            assign_dict[pop][\"C.carassiusxC.carpio\"] = 0\n",
    "            assign_dict[pop][\"C.a.auratusxC.carpio\"] = 0\n",
    "            \n",
    "            assign_dict[pop][\"C.carassiusxC.a.auratus_F2\"] = 0\n",
    "            assign_dict[pop][\"C.carassiusxC.a.gibelio_F2\"] = 0\n",
    "            \n",
    "            assign_dict[pop][\"C.carassiusx(C.carassiusxC.a.gibelio)\"] = 0\n",
    "\n",
    "            \n",
    "        assign_dict[pop][spp] += 1\n",
    "    print(len(assign_dict))"
   ]
  },
  {
   "cell_type": "code",
   "execution_count": 53,
   "metadata": {},
   "outputs": [
    {
     "name": "stdout",
     "output_type": "stream",
     "text": [
      "72\n"
     ]
    }
   ],
   "source": [
    "with open(\"/home/djeffrie/Dropbox/PhD/Dans_PhD_Shared/Thesis/Chapter_5_Hybridisation_and_introgression/data/All_population_coords.txt\") as coords:\n",
    "    \n",
    "    header = next(coords)\n",
    "    \n",
    "    pops = []\n",
    "    for line in coords:\n",
    "        \n",
    "         \n",
    "        pop = line.split()[0]\n",
    "        lat = line.split()[1]\n",
    "        lon = line.split()[2]\n",
    "        pops.append(pop)\n",
    "        \n",
    "        \n",
    "        assign_dict[pop][\"Lat\"] = lat\n",
    "        assign_dict[pop][\"Long\"] = lon\n",
    "    \n",
    "    print(len(pops))"
   ]
  },
  {
   "cell_type": "markdown",
   "metadata": {},
   "source": [
    "#### Output in table form"
   ]
  },
  {
   "cell_type": "code",
   "execution_count": 54,
   "metadata": {},
   "outputs": [],
   "source": [
    "with open(\"/home/djeffrie/Dropbox/PhD/Dans_PhD_Shared/Thesis/Chapter_5_Hybridisation_and_introgression/data/Combined_RAD_MICRO_assignments.tbl\", 'w') as ass_table:\n",
    "    \n",
    "    ass_table.write(\"Pop\\tLat\\tLong\\tC.carassius\\tC.carassius_DAN\\tC.carassius_DON\\tC.a.auratus\\tC.a.gibelio\\tC.carpio\\tC.carassiusxC.a.auratus\\tC.carassiusxC.a.gibelio\\tC.carassiusxC.carpio\\tC.a.auratusxC.carpio\\tC.carassiusxC.a.auratus_F2\\tC.carassiusxC.a.gibelio_F2\\tC.carassiusx(C.carassiusxC.a.gibelio)\\n\")\n",
    "        \n",
    "    for pop in assign_dict:\n",
    "        \n",
    "        ass_table.write(\"%s\\t%s\\t%s\\t%s\\t%s\\t%s\\t%s\\t%s\\t%s\\t%s\\t%s\\t%s\\t%s\\t%s\\t%s\\t%s\\n\" % (pop,\n",
    "                                                                                              assign_dict[pop][\"Lat\"],\n",
    "                                                                                              assign_dict[pop][\"Long\"],                                                                                              \n",
    "                                                                                              assign_dict[pop][\"C.carassius\"],\n",
    "                                                                                              assign_dict[pop][\"C.carassius_DAN\"],\n",
    "                                                                                              assign_dict[pop][\"C.carassius_DON\"],\n",
    "                                                                                              assign_dict[pop][\"C.a.auratus\"],\n",
    "                                                                                              assign_dict[pop][\"C.a.gibelio\"],\n",
    "                                                                                              assign_dict[pop][\"C.carpio\"],\n",
    "                                                                                              assign_dict[pop][\"C.carassiusxC.a.auratus\"],\n",
    "                                                                                              assign_dict[pop][\"C.carassiusxC.a.gibelio\"],\n",
    "                                                                                              assign_dict[pop][\"C.carassiusxC.carpio\"],\n",
    "                                                                                              assign_dict[pop][\"C.a.auratusxC.carpio\"],\n",
    "                                                                                              assign_dict[pop][\"C.carassiusxC.a.auratus_F2\"],\n",
    "                                                                                              assign_dict[pop][\"C.carassiusxC.a.gibelio_F2\"],\n",
    "                                                                                              assign_dict[pop][\"C.carassiusx(C.carassiusxC.a.gibelio)\"]))\n",
    "        \n",
    "                    \n",
    "                    "
   ]
  },
  {
   "cell_type": "markdown",
   "metadata": {},
   "source": [
    "This was used along with Lat and Long coordinates for each population to make a map in R. "
   ]
  }
 ],
 "metadata": {
  "kernelspec": {
   "display_name": "Python 3",
   "language": "python",
   "name": "python3"
  },
  "language_info": {
   "codemirror_mode": {
    "name": "ipython",
    "version": 3
   },
   "file_extension": ".py",
   "mimetype": "text/x-python",
   "name": "python",
   "nbconvert_exporter": "python",
   "pygments_lexer": "ipython3",
   "version": "3.6.3"
  }
 },
 "nbformat": 4,
 "nbformat_minor": 2
}
